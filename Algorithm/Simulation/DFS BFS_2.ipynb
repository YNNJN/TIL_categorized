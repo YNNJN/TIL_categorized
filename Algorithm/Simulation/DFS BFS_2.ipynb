{
 "cells": [
  {
   "cell_type": "markdown",
   "metadata": {},
   "source": [
    "# DFS BFS"
   ]
  },
  {
   "cell_type": "markdown",
   "metadata": {},
   "source": [
    "### 연결요소\n",
    "\n",
    "- In graph theory, a component, sometimes called a connected component, of an undirected graph is a subgraph in which any two vertices are connected to each other by paths, and which is connected to no additional vertices in the supergraph.\n",
    "- 연결요소에 속한 모든 정점을 연결하는 경로가 있어야\n",
    "- 다른 연결 요소에 속한 정점과 연결하는 경로가 있으면 x\n",
    "- 즉 서로 연결된 하나의 덩어리를 연결요소라고 함"
   ]
  },
  {
   "cell_type": "code",
   "execution_count": 1,
   "metadata": {},
   "outputs": [
    {
     "name": "stdout",
     "output_type": "stream",
     "text": [
      "6 5\n",
      "1 2\n",
      "2 5\n",
      "5 1\n",
      "3 4\n",
      "4 6\n",
      "2\n"
     ]
    }
   ],
   "source": [
    "#11724_연결요소의 개수\n",
    "'''\n",
    "1. a와 연결된 모든 정점 방문 후 cnt += 1\n",
    "2. 모든 정점에 대해 반복하면 연결요소의 개수는 cnt\n",
    "\n",
    "'''\n",
    "\n",
    "#dfs풀이\n",
    "def dfs(v):\n",
    "    visited[v] = 1\n",
    "    for e in adj[v]:\n",
    "        if not visited[e]:\n",
    "            dfs(e)\n",
    "\n",
    "n,m = map(int, input().split())\n",
    "adj = [[] for _ in range(n+1)]\n",
    "visited = [0]*(n+1)\n",
    "cnt = 0\n",
    "\n",
    "for i in range(m):\n",
    "    data = list(map(int, input().split()))\n",
    "    adj[data[0]].append(data[1]) #무방향그래프\n",
    "    adj[data[1]].append(data[0])\n",
    "\n",
    "for i in range(1, len(visited)):\n",
    "    if not visited[i]:\n",
    "        cnt += 1\n",
    "        dfs(i)\n",
    "print(cnt)"
   ]
  },
  {
   "cell_type": "code",
   "execution_count": null,
   "metadata": {},
   "outputs": [],
   "source": [
    "#bfs풀이\n",
    "#오호 시간초과\n",
    "def bfs(v):\n",
    "    q = [v]\n",
    "    while q:\n",
    "        v = q.pop(0)\n",
    "        if not visited[v]:\n",
    "            visited[v] = 1\n",
    "            for e in adj[v]:\n",
    "                if not visited[e]:\n",
    "                    q.append(e)"
   ]
  },
  {
   "cell_type": "code",
   "execution_count": 2,
   "metadata": {},
   "outputs": [
    {
     "name": "stdout",
     "output_type": "stream",
     "text": [
      "6 5\n",
      "1 2\n",
      "2 5\n",
      "5 1\n",
      "3 4\n",
      "4 6\n",
      "2\n"
     ]
    }
   ],
   "source": [
    "#retry\n",
    "def bfs(v):\n",
    "    visited[v] = 1\n",
    "    q = [v]\n",
    "    while q:\n",
    "        v = q.pop(0)\n",
    "        for i in range(len(adj[v])):\n",
    "            e = adj[v][i]\n",
    "            if not visited[e]:\n",
    "                visited[e] = 1\n",
    "                q.append(e)\n",
    "\n",
    "n, m = map(int, input().split())\n",
    "adj = [[] for _ in range(n+1)]\n",
    "visited = [0]*(n+1)\n",
    "cnt = 0\n",
    "\n",
    "for _ in range(m):\n",
    "    u,v = list(map(int, input().split()))\n",
    "    adj[u].append(v)\n",
    "    adj[v].append(u)\n",
    "\n",
    "for i in range(1, len(visited)):\n",
    "    if not visited[i]:\n",
    "        cnt += 1\n",
    "        bfs(i)\n",
    "print(cnt)"
   ]
  },
  {
   "cell_type": "markdown",
   "metadata": {},
   "source": [
    "### 이분 그래프\n",
    "\n",
    "- In graph theory, a bipartite graph is a graph whose vertices can be devided into two disjoint and independent sets and such that every edge connects a vertex in to one in. Vertex sets and are usually called the parts of the graph.\n",
    "- 그래프를 a와 b로 나눌 때\n",
    "    - a에 포함된 정점끼리 연결된 간선 없음\n",
    "    - b에 포함된 정점끼리 연결된 간선 없음\n",
    "- 즉 모든 간선의 한 끝 점이 a에, 다른 끝 점은 b에 있는 그래프를 이분그래프라고 함\n",
    "- 컬러링으로, 인접한 두 정점을 반드시 다른 색으로 칠하는 방법으로 풀 수도 있음(아래의 dfs 풀이)"
   ]
  },
  {
   "cell_type": "code",
   "execution_count": 4,
   "metadata": {},
   "outputs": [
    {
     "name": "stdout",
     "output_type": "stream",
     "text": [
      "2\n",
      "3 2\n",
      "1 3\n",
      "2 3\n",
      "YES\n",
      "4 4\n",
      "1 2\n",
      "2 3\n",
      "3 4\n",
      "4 2\n",
      "NO\n"
     ]
    }
   ],
   "source": [
    "#1707_이분 그래프\n",
    "'''\n",
    "1. 이동 가능한 지점은 -1 곱\n",
    "2. 이동할 지점과 현재의 값이 같으면 이분 불가\n",
    "\n",
    "'''\n",
    "\n",
    "#bfs풀이\n",
    "def bfs(v):\n",
    "    visited[v] = 1\n",
    "    q = [v]\n",
    "    while q:\n",
    "        v = q.pop(0)\n",
    "        for e in adj[v]:\n",
    "            if not visited[e]:\n",
    "                visited[e] = -1 * visited[v]\n",
    "                q.append(e)\n",
    "            elif visited[e] == visited[v]:\n",
    "                return 1\n",
    "    return 0\n",
    "\n",
    "k = int(input())\n",
    "while k:\n",
    "    v,e = map(int, input().split())\n",
    "    adj = [[] for _ in range(v+1)]\n",
    "    visited = [0]*(v+1)\n",
    "\n",
    "    for _ in range(e):\n",
    "        e_info = list(map(int, input().split()))\n",
    "        adj[e_info[0]].append(e_info[1])\n",
    "        adj[e_info[1]].append(e_info[0])\n",
    "\n",
    "    ans = 0\n",
    "    for i in range(1, len(visited)):\n",
    "        if not visited[i]:\n",
    "            ans = bfs(i)\n",
    "            if ans == 1:\n",
    "                break\n",
    "    if ans == 0:\n",
    "        print('YES')\n",
    "    else:\n",
    "        print('NO')\n",
    "    k -= 1"
   ]
  },
  {
   "cell_type": "code",
   "execution_count": 5,
   "metadata": {},
   "outputs": [
    {
     "name": "stdout",
     "output_type": "stream",
     "text": [
      "2\n",
      "3 2\n",
      "1 3\n",
      "2 3\n",
      "YES\n",
      "4 4\n",
      "1 2\n",
      "2 3\n",
      "3 4\n",
      "4 2\n",
      "NO\n"
     ]
    }
   ],
   "source": [
    "#dfs풀이\n",
    "'''\n",
    "color[i] = 0 (아직 방문x)\n",
    "color[i] = 1 (방문 o)\n",
    "color[i] = 2 (방문 o)\n",
    "(로직은 맞는 것 같은데 어딘가 틀림,,, 25%까지만 채점되고 런타임에러 ㅠㅠ)\n",
    "\n",
    "'''\n",
    "def dfs(v,c):\n",
    "    color[v] = c\n",
    "    for i in range(len(adj[v])):\n",
    "        next = adj[v][i]\n",
    "        if not color[next]:\n",
    "            dfs(next, 3-c) # 1->2, 2->1, 따라서 c->3-c\n",
    "\n",
    "k = int(input())\n",
    "for tc in range(k):\n",
    "    v,e = map(int, input().split())\n",
    "    adj = [[] for _ in range(v+1)]\n",
    "    color = [0]*(v+1)\n",
    "\n",
    "    for _ in range(e):\n",
    "        e_info = list(map(int, input().split()))\n",
    "        adj[e_info[0]].append(e_info[1])\n",
    "        adj[e_info[1]].append(e_info[0])\n",
    "    dfs(1,1)\n",
    "\n",
    "    ans = 0\n",
    "    for i in range(1, v+1):\n",
    "        for p in range(len(adj[i])):\n",
    "            j = adj[i][p]\n",
    "            if color[i] == color[j]:\n",
    "                ans = 1\n",
    "    if ans == 0:\n",
    "        print('YES')\n",
    "    else:\n",
    "        print('NO')"
   ]
  },
  {
   "cell_type": "code",
   "execution_count": 7,
   "metadata": {
    "scrolled": true
   },
   "outputs": [
    {
     "name": "stdout",
     "output_type": "stream",
     "text": [
      "2\n",
      "8\n",
      "3 2 7 8 1 4 5 6\n",
      "3\n",
      "10\n",
      "2 1 3 4 5 6 7 9 10 8\n",
      "7\n"
     ]
    }
   ],
   "source": [
    "#10451_순열사이클\n",
    "def dfs(v):\n",
    "    visited[v] = 1\n",
    "    next = s[v]\n",
    "    if not visited[next]:\n",
    "        dfs(next)\n",
    "\n",
    "t = int(input())\n",
    "for tc in range(t):\n",
    "    n = int(input())\n",
    "    s = [0] + list(map(int, input().split()))\n",
    "    visited = [0]*(n+1)\n",
    "    ans = 0\n",
    "\n",
    "    for i in range(1, len(visited)):\n",
    "        if not visited[i]:\n",
    "            dfs(i)\n",
    "            ans += 1\n",
    "    print(ans)"
   ]
  },
  {
   "cell_type": "code",
   "execution_count": 16,
   "metadata": {},
   "outputs": [
    {
     "name": "stdout",
     "output_type": "stream",
     "text": [
      "57 2\n",
      "4\n"
     ]
    }
   ],
   "source": [
    "#2331_반복수열\n",
    "'''\n",
    "수를 계속 만들다가 이전에 만들었던 수를 만들면\n",
    "그 수가 몇 번째로 만들었던 수인지 리턴\n",
    "\n",
    "'''\n",
    "\n",
    "a,p = map(int, input().split())\n",
    "d = [a]\n",
    "\n",
    "while True:\n",
    "    s = d[-1]\n",
    "    val = 0\n",
    "    while s:\n",
    "        val += ((s%10)**p)\n",
    "        s = s//10\n",
    "    if val in d:\n",
    "        print(d.index(val))\n",
    "        break\n",
    "    else:\n",
    "        d.append(val)"
   ]
  },
  {
   "cell_type": "code",
   "execution_count": 18,
   "metadata": {
    "scrolled": false
   },
   "outputs": [
    {
     "name": "stdout",
     "output_type": "stream",
     "text": [
      "2\n",
      "7\n",
      "3 1 3 7 3 4 6\n",
      "3\n",
      "8\n",
      "1 2 3 4 5 6 7 8\n",
      "0\n"
     ]
    }
   ],
   "source": [
    "#9466_텀프로젝트\n",
    "'''\n",
    "팀이 결성되기 위해서는 팀의 마지막 학생이 팀의 첫번째 학생을 지목해야 = 순환사이클\n",
    "순환 사이클이 구성되는 구간만 팀을 결성 가능\n",
    "\n",
    "'''\n",
    "def dfs(v, ans):\n",
    "    visited[v] = 1\n",
    "    cycle.append(v)\n",
    "    num = nums[v]\n",
    "\n",
    "    if visited[num]:\n",
    "        if num in cycle:\n",
    "            ans += cycle[cycle.index(num):]\n",
    "        return\n",
    "    else:\n",
    "        dfs(num, ans)\n",
    "\n",
    "t = int(input())\n",
    "for tc in range(t):\n",
    "    n = int(input())\n",
    "    nums = [0] + list(map(int, input().split()))\n",
    "    visited = [0]*(n+1)\n",
    "    ans = []\n",
    "\n",
    "    for i in range(1, n+1):\n",
    "        if not visited[i]:\n",
    "            cycle = []\n",
    "            dfs(i, ans)\n",
    "\n",
    "    print(n - len(ans))"
   ]
  },
  {
   "cell_type": "code",
   "execution_count": null,
   "metadata": {},
   "outputs": [],
   "source": [
    "#2210_숫자판 점프\n",
    "'''\n",
    "arr의 모든 출발점에 대해 dfs 실행\n",
    "6글자가 될 때까지 재귀\n",
    "왔던 길 다시 되돌아가기 가능\n",
    "\n",
    "'''\n",
    "\n",
    "def dfs(r,c,num):\n",
    "    if len(num) == 6:\n",
    "        if num not in ans:\n",
    "            ans.append(num)\n",
    "        return\n",
    "\n",
    "    dr = [1, -1, 0, 0]\n",
    "    dc = [0, 0, 1, -1]\n",
    "    for i in range(4):\n",
    "        nr = r + dr[i]\n",
    "        nc = c + dc[i]\n",
    "\n",
    "        if 0 <= nr < 5 and 0 <= nc < 5:\n",
    "            dfs(nr, nc, num + arr[nr][nc])\n",
    "\n",
    "arr = [list(input().split()) for _ in range(5)]\n",
    "ans = []\n",
    "for i in range(5):\n",
    "    for j in range(5):\n",
    "        dfs(i, j, arr[i][j])\n",
    "        \n",
    "print(len(ans))"
   ]
  },
  {
   "cell_type": "code",
   "execution_count": null,
   "metadata": {},
   "outputs": [],
   "source": [
    "#swea 2814_최장경로\n",
    "def find(v, s):\n",
    "    global max_value\n",
    "    visited[v] = 1\n",
    "    for i in range(n+1):\n",
    "        if not visited[i] and adj[v][i] == 1:\n",
    "            find(i, s+1)\n",
    "            visited[i] = 0\n",
    "    if max_value < s:\n",
    "        max_value = s\n",
    "\n",
    "t = int(input())\n",
    "for tc in range(1, t+1):\n",
    "    n,m = map(int, input().split())\n",
    "    adj = [[0 for _ in range(n+1)] for _ in range(n+1)]\n",
    "\n",
    "    for _ in range(m):\n",
    "        x,y = map(int, input().split())\n",
    "        adj[x][y] = 1\n",
    "        adj[y][x] = 1\n",
    "\n",
    "    max_value = 1\n",
    "    for i in range(1, n+1):\n",
    "        visited = [0] * (n+1)\n",
    "        find(i,1)\n",
    "    print('#{} {}'.format(tc, max_value))"
   ]
  },
  {
   "cell_type": "markdown",
   "metadata": {},
   "source": [
    "### 순열"
   ]
  },
  {
   "cell_type": "markdown",
   "metadata": {},
   "source": [
    "- 배열의 재귀를 다룰 때 생각할 두 가지\n",
    "    - 어떤 자리에 접근할 것인가\n",
    "    - 배열의 크기"
   ]
  },
  {
   "cell_type": "code",
   "execution_count": 15,
   "metadata": {},
   "outputs": [],
   "source": [
    "#순열\n",
    "def f(n,k):\n",
    "    if n == k:\n",
    "        print(p)\n",
    "    else:\n",
    "        for i in range(k):\n",
    "            if used[i] == 0:\n",
    "                used[i] = 1\n",
    "                p[n] = a[i]\n",
    "                f(n+1, k)\n",
    "                used[i] = 0 #이로써 i자리는 다른 자리에서 사용 가능\n",
    "                \n",
    "#완전탐색의 한 형태, 숫자를 담는 작업이 추가되는\n",
    "#자리를 바꾸는 방식의 코드도 생각해보기\n",
    "\n",
    "#테케에서 순열의 개수가 3으로 일정하다면, 이차원 배열에 여섯가지 경우 넣어서(0, 1, 2) 걍 사용"
   ]
  },
  {
   "cell_type": "code",
   "execution_count": null,
   "metadata": {},
   "outputs": [],
   "source": [
    "#swea 1865_동철이의 일 분배\n",
    "def dfs(v,s):\n",
    "    global max_p\n",
    "    if s == 0 or s <= max_p: #s는 확률이므로 곱할수록 작아지니\n",
    "        return\n",
    "    if v == n:\n",
    "        if max_p < s:\n",
    "            max_p = s\n",
    "    for i in range(n):\n",
    "        if not visited[i]:\n",
    "            visited[i] = 1\n",
    "            dfs(v+1, s * p[v][i] * 0.01)\n",
    "            visited[i] = 0\n",
    "\n",
    "for tc in range(int(input())):\n",
    "    n = int(input())\n",
    "    p = [list(map(int, input().split())) for _ in range(n)]\n",
    "    visited = [0] * n\n",
    "    max_p = 0\n",
    "    dfs(0,1)\n",
    "    print('#{} {:.6f}'.format(tc+1, max_p * 100))"
   ]
  }
 ],
 "metadata": {
  "kernelspec": {
   "display_name": "Python 3",
   "language": "python",
   "name": "python3"
  },
  "language_info": {
   "codemirror_mode": {
    "name": "ipython",
    "version": 3
   },
   "file_extension": ".py",
   "mimetype": "text/x-python",
   "name": "python",
   "nbconvert_exporter": "python",
   "pygments_lexer": "ipython3",
   "version": "3.7.3"
  }
 },
 "nbformat": 4,
 "nbformat_minor": 2
}
