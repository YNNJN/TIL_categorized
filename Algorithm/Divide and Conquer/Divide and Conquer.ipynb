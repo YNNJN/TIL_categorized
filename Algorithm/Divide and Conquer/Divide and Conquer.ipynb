{
 "cells": [
  {
   "cell_type": "markdown",
   "metadata": {},
   "source": [
    "### 분할정복\n",
    "\n",
    "(아래의 분할 정복 개념 정리는 [참조_분할정복](https://m.blog.naver.com/kks227/220776241154)의 내용을 참조하여 정리한 것임을 밝힙니다)\n",
    "- 문제를 분할과 정복으로 나누어 해결함\n",
    "- 재귀호출의 기저사례처럼, 문제의 크기를 작게하여 해결하고, 이 답들을 통해 큰 문제까지 해결함\n",
    "- 이 기법의 성질 자체가 효율적인 자료구조나 알고리즘에 기여할 때가 많음\n",
    "- 분할과 정복을 통해 더 빨리 풀 수 있는 문제들에 적용\n",
    "    - merge sort, binary search, a^b 등"
   ]
  },
  {
   "cell_type": "markdown",
   "metadata": {},
   "source": [
    "- 분할정복 알고리즘의 수행 시간은 문제마다 다름\n",
    "    - 아래의 세 요소가 수행 시간을 결정함\n",
    "    - 1. 나누어지는 문제의 개수\n",
    "    - 2. 분할 후 문제의 크기\n",
    "    - 3. 각 문제마다 정복 단계에서 걸리는 시간"
   ]
  },
  {
   "cell_type": "markdown",
   "metadata": {},
   "source": [
    "- merge sort의 경우\n",
    "    - 각 단계에 대한 시간 복잡도가 1. 2, 2. N/2, 3. O(N)\n",
    "    - 기저 사례가 N = 1인 경우 문제가 log_2(N) 단계로 분할됨, 단계는 총 O(logN)개\n",
    "    - k단계에서 2^(k-1)번, 2단계에서 4번, 1단계에서 2번, 0 단계에서 1번 병합(정복)해야\n",
    "    - 병합은 문제의 크기가 N일 때 O(N)이므로\n",
    "        - 0단계: 1 * O(N)\n",
    "        - 1단계: 2 * O(N/2)\n",
    "        - m단계: 2^m * O(N/(2^m)) = O(N)\n",
    "    - 따라서 merge sort의 시간복잡도는 O(NlogN)\n",
    "    - 버블솔트, 선택정렬이 O(N^2)임에 비해 굉장한 발전"
   ]
  },
  {
   "cell_type": "code",
   "execution_count": null,
   "metadata": {},
   "outputs": [],
   "source": [
    "'''\n",
    "홀/짝 경우 나눠서 생각\n",
    "C^8 = C^4 * C^4\n",
    "C^9 = C^4 * C^4 * C\n",
    "'''\n",
    "def power(base, exponent):\n",
    "    if exponent == 0 or base == 0:\n",
    "        return 1\n",
    "    if exponent % 2 == 0:\n",
    "        newbase = power(base, exponent/2)\n",
    "        return newbase*newbase\n",
    "    else:\n",
    "        newbase = power(base, (exponent-1)/2)\n",
    "        return newbase * newbase * base\n",
    "print(power(2, 10))"
   ]
  },
  {
   "cell_type": "code",
   "execution_count": null,
   "metadata": {},
   "outputs": [],
   "source": [
    "#BOJ 1629. 곱셈\n",
    "#위의 방법 그대로 풀었으나 시간초과\n",
    "import sys\n",
    "def mul(a, b):\n",
    "    if b % 2 == 0:\n",
    "        new_b = b//2\n",
    "        return (a**new_b) ** 2\n",
    "    else:\n",
    "        new_b = (b - 1)//2\n",
    "        return a * (a**new_b) ** 2\n",
    "\n",
    "a, b, c = list(map(int, sys.stdin.readline().split()))\n",
    "print(mul(a, b) % c)"
   ]
  },
  {
   "cell_type": "code",
   "execution_count": null,
   "metadata": {},
   "outputs": [],
   "source": [
    "#b가 짝수일 때까지 쪼갬 - 맞았습니다!\n",
    "import sys\n",
    "def div(a,b):\n",
    "    if b == 0:\n",
    "        return 1\n",
    "    elif b == 1:\n",
    "        return a\n",
    "    elif b % 2:\n",
    "        return div(a, b-1)*a\n",
    "    else:\n",
    "        ans = div(a,b//2)\n",
    "        ans %= c\n",
    "        return ans**2 % c\n",
    "a, b, c = list(map(int, sys.stdin.readline().split()))\n",
    "print(div(a,b) % c)"
   ]
  },
  {
   "cell_type": "code",
   "execution_count": null,
   "metadata": {},
   "outputs": [],
   "source": [
    "#D2 4880. 토너먼트 카드게임\n",
    "def find(l,r):\n",
    "    if l == r:\n",
    "        return l\n",
    "    else:\n",
    "        result1 = find(l, (l+r)//2) #카드를 반으로 나눠 재귀호출\n",
    "        result2 = find((l+r)//2+1, r)\n",
    "        if card[result1] == card[result2]:\n",
    "            return result1\n",
    "        else:\n",
    "            if card[result1] == 1 and card[result2] == 2:\n",
    "                return result2\n",
    "            if card[result1] == 1 and card[result2] == 3:\n",
    "                return result1\n",
    "            if card[result1] == 2 and card[result2] == 1:\n",
    "                return result1\n",
    "            if card[result1] == 2 and card[result2] == 3:\n",
    "                return result2\n",
    "            if card[result1] == 3 and card[result2] == 1:\n",
    "                return result2\n",
    "            if card[result1] == 3 and card[result2] == 2:\n",
    "                return result1\n",
    "t = int(input())\n",
    "for tc in range(1, t+1):\n",
    "    n = int(input())\n",
    "    card = [0] + list(map(int, input().split()))\n",
    "    print('#{} {}'.format(tc, find(1, n)))"
   ]
  },
  {
   "cell_type": "code",
   "execution_count": null,
   "metadata": {},
   "outputs": [],
   "source": [
    "#BOJ 2104. 부분배열 고르기\n",
    "#네 당연히 시간 초과\n",
    "import sys\n",
    "r = sys.stdin.readline\n",
    "\n",
    "n = int(r())\n",
    "arr = list(map(int, r().split()))\n",
    "max_value = 0\n",
    "for i in range(len(arr)):\n",
    "    for j in range(i, len(arr)):\n",
    "        ans = sum(arr[i:j+1]) * min(arr[i:j+1])\n",
    "        if max_value < ans:\n",
    "            max_value = ans\n",
    "print(max_value)"
   ]
  },
  {
   "cell_type": "code",
   "execution_count": null,
   "metadata": {},
   "outputs": [],
   "source": [
    "#분할 정복 연습 - 맞았습니다!\n",
    "import sys\n",
    "r = sys.stdin.readline\n",
    "\n",
    "def find(s,e):\n",
    "    if s == e:\n",
    "        return arr[s]*arr[e]\n",
    "    mid = (s+e)//2\n",
    "    ans = max(find(s, mid), find(mid+1, e))\n",
    "\n",
    "    left, right = mid, mid +1\n",
    "    sum = arr[left] + arr[right]\n",
    "    min_value = min(arr[left], arr[right])\n",
    "    ans = max(ans, min_value * sum)\n",
    "\n",
    "    while left > s or right < e:\n",
    "        if right < e and (left == s or arr[left-1] < arr[right+1]):\n",
    "            right += 1\n",
    "            sum += arr[right]\n",
    "            min_value = min(min_value, arr[right])\n",
    "        else:\n",
    "            left -= 1\n",
    "            sum += arr[left]\n",
    "            min_value = min(min_value, arr[left])\n",
    "        ans = max(ans, min_value * sum)\n",
    "    return ans\n",
    "\n",
    "n = int(r())\n",
    "arr = list(map(int, r().split()))\n",
    "print(find(0, len(arr)-1))"
   ]
  },
  {
   "cell_type": "markdown",
   "metadata": {},
   "source": [
    "위 문제 풀다가 생각난 김에 **binary search 구현**"
   ]
  },
  {
   "cell_type": "code",
   "execution_count": 3,
   "metadata": {},
   "outputs": [
    {
     "name": "stdout",
     "output_type": "stream",
     "text": [
      "True\n"
     ]
    }
   ],
   "source": [
    "def binary_search(a, key):\n",
    "    s = 0\n",
    "    e = len(a) - 1\n",
    "    while s <= e:\n",
    "        mid = (s+e)//2\n",
    "        if a[mid] == key:\n",
    "            return True\n",
    "        elif a[mid] > key:\n",
    "            e = mid - 1\n",
    "        else:\n",
    "            s = mid + 1\n",
    "    return False\n",
    "\n",
    "arr = [1, 2, 4, 6, 7, 4, 3, 5, 6]\n",
    "print(binary_search(arr, 7))"
   ]
  },
  {
   "cell_type": "markdown",
   "metadata": {},
   "source": [
    "**merge sort도 구현**\n",
    "- 둘씩 크기를 비교해 정렬(분할)\n",
    "- 이를 합침(정복)\n",
    "- 더이상 합칠 수 없을 때까지 반복"
   ]
  },
  {
   "cell_type": "code",
   "execution_count": 2,
   "metadata": {},
   "outputs": [
    {
     "name": "stdout",
     "output_type": "stream",
     "text": [
      "[1, 2, 3, 5, 6, 7, 8, 9]\n"
     ]
    }
   ],
   "source": [
    "def merge_sort(arr):\n",
    "    if len(arr) <= 1:\n",
    "        return arr\n",
    "    \n",
    "    mid = len(arr)//2 #분할\n",
    "    l_list = arr[:mid]\n",
    "    r_list = arr[mid:]\n",
    "    \n",
    "    l_list = merge_sort(l_list)\n",
    "    r_list = merge_sort(r_list)\n",
    "    return merge(l_list, r_list)\n",
    "\n",
    "def merge(l,r): #주어진 두 개 리스트를 크기 순으로 정렬\n",
    "    result = []\n",
    "    while len(l) > 0 or len(r) > 0: #l과 r에 요소가 남아있는 동안 반복\n",
    "        if len(l) > 0 and len(r) > 0:\n",
    "            if l[0] <= r[0]: #작은 값을 result에, 그리고 해당 값을 리스트에서 지움\n",
    "                result.append(l[0])\n",
    "                l = l[1:]\n",
    "            else:\n",
    "                result.append(r[0])\n",
    "                r = r[1:]\n",
    "        elif len(l) > 0:\n",
    "            result.append(l[0])\n",
    "            l = l[1:]\n",
    "        elif len(r) > 0:\n",
    "            result.append(r[0])\n",
    "            r = r[1:]\n",
    "    return result\n",
    "\n",
    "arr = [2, 6, 5, 3, 1, 8, 9, 7]\n",
    "print(merge_sort(arr))"
   ]
  }
 ],
 "metadata": {
  "kernelspec": {
   "display_name": "Python 3",
   "language": "python",
   "name": "python3"
  },
  "language_info": {
   "codemirror_mode": {
    "name": "ipython",
    "version": 3
   },
   "file_extension": ".py",
   "mimetype": "text/x-python",
   "name": "python",
   "nbconvert_exporter": "python",
   "pygments_lexer": "ipython3",
   "version": "3.7.3"
  }
 },
 "nbformat": 4,
 "nbformat_minor": 2
}
