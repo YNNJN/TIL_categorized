{
 "cells": [
  {
   "cell_type": "code",
   "execution_count": null,
   "metadata": {},
   "outputs": [],
   "source": [
    "#3752_가능한 시험 점수\n",
    "#학생들이 받을 수 있는 점수의 경우의 수를 출력\n",
    "#set\n",
    "for tc in range(int(input())):\n",
    "    n = int(input())\n",
    "    prb = list(map(int, input().split()))\n",
    "    scr = {0}\n",
    "    for i in prb:\n",
    "        for j in list(scr):\n",
    "            scr.add(j+i)\n",
    "    print('#{} {}'.format(tc+1, len(scr)))"
   ]
  },
  {
   "cell_type": "code",
   "execution_count": null,
   "metadata": {},
   "outputs": [],
   "source": [
    "#list - 가능한 점수를 1로 표시 후 1 카운트(sum)\n",
    "for tc in range(int(input())):\n",
    "    n = int(input())\n",
    "    prb = list(map(int, input().split()))\n",
    "    scr = [0] * (sum(prb) + 1)\n",
    "    scr[0] = 1\n",
    "    for j in range(n):\n",
    "        for i in range(sum(prb), -1, -1):\n",
    "            if scr[i]:\n",
    "                scr[prb[j] + i] = 1\n",
    "\n",
    "    print('#{} {}'.format(tc+1, sum(scr)))"
   ]
  },
  {
   "cell_type": "code",
   "execution_count": null,
   "metadata": {},
   "outputs": [],
   "source": [
    "#비트마스크\n",
    "for tc in range(int(input())):\n",
    "    n = input()\n",
    "    prb = map(int, input().split())\n",
    "    scr = 1\n",
    "    for i in prb:\n",
    "        scr |= scr << i\n",
    "    print('#{} {}'.format(tc+1, bin(scr).count('1')))"
   ]
  },
  {
   "cell_type": "code",
   "execution_count": null,
   "metadata": {},
   "outputs": [],
   "source": [
    "#dfs\n",
    "def dfs(depth, sum):\n",
    "    global result\n",
    "    if depth == n:\n",
    "        result.add(sum)\n",
    "        return\n",
    "    for i in range(n):\n",
    "        dfs(depth + 1, sum + prb[i])\n",
    "        dfs(depth + 1, sum)\n",
    "\n",
    "for tc in range(int(input())):\n",
    "    n = int(input())\n",
    "    prb = list(map(int, input().split()))\n",
    "    scr = set()\n",
    "    scr.add(0)\n",
    "    for i in range(n):\n",
    "        temp = []\n",
    "        for num in scr:\n",
    "            temp.append(prb[i] + num)\n",
    "        for t in temp:\n",
    "            scr.add(t)\n",
    "\n",
    "    print('#{} {}'.format(tc+1, len(scr)))"
   ]
  },
  {
   "cell_type": "markdown",
   "metadata": {},
   "source": [
    "이 문제를 풀면서 코드 최적화를 위한 고민이 정말로 필요하다고 생각하여, [참조_안수빈의 블로그](http://subinium.github.io)를 참조하여 정리해봄"
   ]
  },
  {
   "cell_type": "markdown",
   "metadata": {},
   "source": [
    "- 입력을 보고, 시간을 대충 계산하기\n",
    "- 시간 복잡도\n",
    "    - 연산에 따라 속도는 모두 같나? +와 *의 연산은 같나?\n",
    "    - 모든 연산을 count할 수 있나? break 등의 생략은?\n",
    "    - counting에 따른 실행 시간은? 서버와 컴퓨터의 속도 차?"
   ]
  },
  {
   "cell_type": "code",
   "execution_count": null,
   "metadata": {},
   "outputs": [],
   "source": [
    "#sum으로 연산량 알아보기\n",
    "#더하기 연산 n번 + 반복문 n번\n",
    "#길이 n 수열의 합\n",
    "\n",
    "def solution(lst):\n",
    "    return sum(lst)\n",
    "\n",
    "def sum(lst):\n",
    "    total = 0\n",
    "    for i in range(lst):\n",
    "        total += i\n",
    "    return total"
   ]
  },
  {
   "cell_type": "code",
   "execution_count": null,
   "metadata": {},
   "outputs": [],
   "source": [
    "#O(1)\n",
    "#1부터 n까지의 합\n",
    "def sum_n(n):\n",
    "    return n*(n+1)//2"
   ]
  },
  {
   "cell_type": "code",
   "execution_count": null,
   "metadata": {},
   "outputs": [],
   "source": [
    "#O(N)\n",
    "#길이 n 수열에서 수 k 찾기 (최악의 경우 n번 돌려봐야, 확률적으로는 n/2)\n",
    "def search(lst, n,k):\n",
    "    for i in lst:\n",
    "        if i == lst: return True\n",
    "    return False"
   ]
  },
  {
   "cell_type": "code",
   "execution_count": null,
   "metadata": {},
   "outputs": [],
   "source": [
    "#O(logN)\n",
    "#정렬된 리스트 - 이진 탐색으로 길이가 반으로 계속 줄어듦 (n/2/.../2 -> n ~= 2^k -> k = logk)\n",
    "def binary_search(lst, n,k):\n",
    "    low, high = 0, n-1\n",
    "    while low <= high:\n",
    "        mid = (low+high)//2\n",
    "        if lst[mid] == k: return True\n",
    "        if lst[mid] > k: high = mid -1\n",
    "        else: low = mid + 1\n",
    "    return False"
   ]
  },
  {
   "cell_type": "markdown",
   "metadata": {},
   "source": [
    "python / 1 sec\n",
    "\n",
    "- 1,000,000 -> 안정적\n",
    "- 10,000,000 -> 대다수 가능\n",
    "- 100,000,000 -> 거의 불가능"
   ]
  },
  {
   "cell_type": "code",
   "execution_count": null,
   "metadata": {},
   "outputs": [],
   "source": [
    "#1748_수 이어쓰기1\n",
    "#시간제한 1초, 메모리 제한 128MB\n",
    "#입력 1 <= n <= 100,000,000\n",
    "#중복되는 과정을 어떻게 줄일 수 있을까?\n",
    "def solution(n):\n",
    "    ret = 0\n",
    "    for i in range(1, n+1):\n",
    "        ret += len(str(i))\n",
    "    return ret\n",
    "solution(120)"
   ]
  },
  {
   "cell_type": "code",
   "execution_count": null,
   "metadata": {},
   "outputs": [],
   "source": [
    "#좀 더 파이써닉 하게\n",
    "#O(NlogN) (반복문 + str연산)\n",
    "#메모리 115444kb, 시간 4740ms\n",
    "def solution(n):\n",
    "    return sum(map(lambda x: len(str(x)), range(1, n+1)))\n",
    "solution(120)"
   ]
  },
  {
   "cell_type": "code",
   "execution_count": null,
   "metadata": {},
   "outputs": [],
   "source": [
    "#수의 길이 구하기\n",
    "#10씩 나누니 log_10(n)번의 연산으로 가능\n",
    "def num_len(n):\n",
    "    ret = 0\n",
    "    while n:\n",
    "        n /= 10\n",
    "        ret += 1\n",
    "    return ret"
   ]
  },
  {
   "cell_type": "code",
   "execution_count": null,
   "metadata": {},
   "outputs": [],
   "source": [
    "#자리수 별로 따로 카운팅\n",
    "#120 = 1*9 + 2*90 + 3*21 = 252\n",
    "#메모리 114788kb, 시간 128ms\n",
    "def solution(n):\n",
    "    l,ret = len(str(n)), 0\n",
    "    for i in range(1, l): ret += i * (10**i - 10**(i-1))\n",
    "    ret += l * (n - 10**(l-1) + 1)\n",
    "    return ret\n",
    "solution(120)"
   ]
  },
  {
   "cell_type": "markdown",
   "metadata": {},
   "source": [
    " "
   ]
  },
  {
   "cell_type": "code",
   "execution_count": null,
   "metadata": {},
   "outputs": [],
   "source": [
    "#다중 반복문 사용시 몫과 나머지 이용해서 가볍게 변경함\n",
    "for i in range(n):\n",
    "    for j in range(n):\n",
    "        for k in range(n):\n",
    "            #i, j, k process\n",
    "            \n",
    "for num in range(n**3):\n",
    "    i, j, k = num // (n*n), num // n % n, num %n\n",
    "    #i, j, k process"
   ]
  },
  {
   "cell_type": "code",
   "execution_count": null,
   "metadata": {},
   "outputs": [],
   "source": [
    "#안 되는 경우는 continue를 통해 배제하고, 반복문 내부의 indet를 줄임\n",
    "for i in range(n):\n",
    "    if state:\n",
    "        process()\n",
    "\n",
    "for i in range(n):\n",
    "    if not sate: continue\n",
    "    process()"
   ]
  },
  {
   "cell_type": "code",
   "execution_count": null,
   "metadata": {},
   "outputs": [],
   "source": [
    "#return에서 else가 마지막 조건문인 경우\n",
    "def function(x):\n",
    "    if x:\n",
    "        return True\n",
    "    else:\n",
    "        return False\n",
    "      \n",
    "def function2(x):\n",
    "    if x: return True\n",
    "    return False\n",
    "\n",
    "def function3(x):\n",
    "    return True if x else False"
   ]
  },
  {
   "cell_type": "markdown",
   "metadata": {},
   "source": [
    " "
   ]
  },
  {
   "cell_type": "code",
   "execution_count": 4,
   "metadata": {},
   "outputs": [
    {
     "name": "stdout",
     "output_type": "stream",
     "text": [
      "123\n",
      "11\n"
     ]
    }
   ],
   "source": [
    "#숫자로 구성된 문자열을 n진법에 맞게 변환하기\n",
    "#각 자리 수 * n의 거듭제곱의 합\n",
    "#123 = 1*10^2 + 2*10^1 + 3*10^0\n",
    "def stoi(s, n):\n",
    "    ret = 0\n",
    "    l = len(s)\n",
    "    for i in range(l): ret += int(s[i]) * n **(l-i-1)\n",
    "    return ret\n",
    "print(stoi('123', 10))\n",
    "print(stoi('123', 2))"
   ]
  },
  {
   "cell_type": "code",
   "execution_count": 5,
   "metadata": {},
   "outputs": [
    {
     "name": "stdout",
     "output_type": "stream",
     "text": [
      "123\n",
      "11\n"
     ]
    }
   ],
   "source": [
    "#123 = (((0*10+1)*10)+2)*10 + 3\n",
    "#거듭제곱 연산의 반복 최소화\n",
    "def stoi(s, n):\n",
    "    ret = 0\n",
    "    for i in s: ret = ret * n + int(i)\n",
    "    return ret\n",
    "print(stoi('123', 10))\n",
    "print(stoi('123', 2))"
   ]
  },
  {
   "cell_type": "code",
   "execution_count": 7,
   "metadata": {},
   "outputs": [
    {
     "data": {
      "text/plain": [
       "4"
      ]
     },
     "execution_count": 7,
     "metadata": {},
     "output_type": "execute_result"
    }
   ],
   "source": [
    "#전에 분할정복으로 풀었던 1629번 문제\n",
    "#이진수 활용해 시간 복잡도 줄임\n",
    "#거듭제곱은 거듭제곱 간의 곱으로 표현 가능하니\n",
    "#조건문 + n진수 변환 방법으로 해결 가능\n",
    "#는 이거 아니고\n",
    "def pow_custom(a,b):\n",
    "    ret = 1\n",
    "    while b:\n",
    "        if b % 2 == 1: ret * a\n",
    "        a = a*a\n",
    "        b //= 2\n",
    "        return ret % mod\n",
    "    \n",
    "#이거임\n",
    "#분할정복법과 실행 시간, 메모리는 동일\n",
    "def pow_custom(a,b,mod):\n",
    "    ret = 1\n",
    "    while b:\n",
    "        if b % 2 == 1: ret = ret * a % mod\n",
    "        a = a * a % mod\n",
    "        b //= 2\n",
    "    return ret\n",
    "pow_custom(10, 11, 12)"
   ]
  },
  {
   "cell_type": "markdown",
   "metadata": {},
   "source": [
    "GCD를 잘 구하면 LCM은 O(1)에 구할 수 있다???"
   ]
  },
  {
   "cell_type": "code",
   "execution_count": 8,
   "metadata": {},
   "outputs": [
    {
     "data": {
      "text/plain": [
       "15"
      ]
     },
     "execution_count": 8,
     "metadata": {},
     "output_type": "execute_result"
    }
   ],
   "source": [
    "#1부터 체크\n",
    "def gcd(a,b):\n",
    "    ret = 0\n",
    "    for i in range(min(a,b)):\n",
    "        if a%i == 0 and b%i == 0:\n",
    "            ret = i\n",
    "    return ret\n",
    "\n",
    "#min(a,b)부터 체크\n",
    "def gcd(a,b):\n",
    "    for i in range(min(a,b), 0, -1):\n",
    "        if a % i == 0 and b % i == 0:\n",
    "            return i\n",
    "gcd(45, 15)"
   ]
  },
  {
   "cell_type": "code",
   "execution_count": null,
   "metadata": {},
   "outputs": [],
   "source": [
    "#유클리드 호제법\n",
    "#GCD(A,B) = GCD(B, A%B)\n",
    "def gcd(a,b):\n",
    "    return b if a%b == 0 else gcd(b, a%b)"
   ]
  },
  {
   "cell_type": "markdown",
   "metadata": {},
   "source": [
    "소수와 소인수분해\n",
    "- 소수 판별법\n",
    "- 에라토스테네스의 체"
   ]
  },
  {
   "cell_type": "code",
   "execution_count": 11,
   "metadata": {},
   "outputs": [
    {
     "name": "stdout",
     "output_type": "stream",
     "text": [
      "False\n",
      "True\n"
     ]
    }
   ],
   "source": [
    "#2부터 n-1까지 체크 - O(N)\n",
    "def isPrime(n):\n",
    "    for i in range(2, n):\n",
    "        if n % i == 0: return False\n",
    "    return True\n",
    "\n",
    "#2부터 sqrt(N)까지 체크 - O(sqrt(N))\n",
    "def isPrime(n):\n",
    "    i = 2\n",
    "    while i * i < n:\n",
    "        if n % i == 0: return False\n",
    "        i += 1\n",
    "    return True\n",
    "\n",
    "print(isPrime(6))\n",
    "print(isPrime(5))"
   ]
  },
  {
   "cell_type": "code",
   "execution_count": 13,
   "metadata": {},
   "outputs": [
    {
     "data": {
      "text/plain": [
       "([False, False, False, False, True, False, True, False, True, True, True],\n",
       " [2, 3, 5, 7])"
      ]
     },
     "execution_count": 13,
     "metadata": {},
     "output_type": "execute_result"
    }
   ],
   "source": [
    "#n까지의 소수를 구하기 위해서는 sqrt(n)까지의 소수를 이용\n",
    "def era(n):\n",
    "    ck, p = [False for _ in range(n+1)], []\n",
    "    for i in range(2, n+1):\n",
    "        if ck[i] == True: continue\n",
    "        p.append(i)\n",
    "        for j in range(i*i, n+1, i):\n",
    "            ck[j] = True\n",
    "    return ck, p\n",
    "\n",
    "era(10)"
   ]
  },
  {
   "cell_type": "markdown",
   "metadata": {},
   "source": [
    "분할정복\n",
    "- 문제를 분해하고\n",
    "    - 분할 정복에 사용하기 위해서는 줄어든 문제 조건 표현할 parameter 필요\n",
    "- 재귀함수 활용함\n",
    "    - 최소 조건 / 탈줄 조건 분명하게"
   ]
  },
  {
   "cell_type": "code",
   "execution_count": 14,
   "metadata": {},
   "outputs": [
    {
     "name": "stdout",
     "output_type": "stream",
     "text": [
      "3\n",
      "7\n",
      "1 3\n",
      "1 2\n",
      "3 2\n",
      "1 3\n",
      "2 1\n",
      "2 3\n",
      "1 3\n"
     ]
    }
   ],
   "source": [
    "#11729_하노이 탑 이동 순서\n",
    "'''\n",
    "마지막 기둥이 움직이려면 n개 중 n-1개를 기둥 2에 보내야\n",
    "n번째 기둥을 3에 보내고, n-1개의 기둥을 다시 기둥 3에 보냄\n",
    "기둥1에서 2로 보내는 과정과 2에서 3으로 보내는 과정은 사실 같음\n",
    "즉 f(n) = 2 * f(n-1) + 1, f(1) = 1\n",
    "\n",
    "'''\n",
    "\n",
    "def hanoi(st, ed, sz):\n",
    "    if sz == 1: return print(st, ed)\n",
    "    hanoi(st, 6-st-ed, sz - 1)\n",
    "    print(st, ed)\n",
    "    hanoi(6-st-ed, ed, sz - 1)\n",
    "n = int(input())\n",
    "print(2 ** n-1)\n",
    "hanoi(1,3,n)"
   ]
  }
 ],
 "metadata": {
  "kernelspec": {
   "display_name": "Python 3",
   "language": "python",
   "name": "python3"
  },
  "language_info": {
   "codemirror_mode": {
    "name": "ipython",
    "version": 3
   },
   "file_extension": ".py",
   "mimetype": "text/x-python",
   "name": "python",
   "nbconvert_exporter": "python",
   "pygments_lexer": "ipython3",
   "version": "3.7.3"
  }
 },
 "nbformat": 4,
 "nbformat_minor": 2
}
