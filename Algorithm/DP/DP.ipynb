{
 "cells": [
  {
   "cell_type": "markdown",
   "metadata": {},
   "source": [
    "문제풀이에 있어 어려움을 겪어왔던 문제들이 모두 DP를 이용하는 문제들이었음을 깨닫고,,, 찬찬히 다시 공부합니다. 아래는 최백준님의 강의자료 중 DP 부분을 토대로 정리한 것임을 밝힙니다."
   ]
  },
  {
   "cell_type": "markdown",
   "metadata": {},
   "source": [
    "## DP\n",
    "\n",
    "- DP란 큰 문제를 작은 문제로 나눠서 푸는 알고리즘\n",
    "\n",
    "## 속성\n",
    "\n",
    "- 1. Overlapping Subproblem\n",
    "- 2. Optimal Substructure\n",
    "- 위의 두 속성을 만족해야 DP로 문제를 풀 수 있음\n",
    "- 즉 겹치는 부분문제, 최적 구조에 적용\n",
    "- 겹치는 부분 문제란 \n",
    "    - 큰 문제와 작은 문제를 같은 방법으로 풀 수 있는 문제\n",
    "    - 즉 문제의 정답을 작은 문제의 정답에서 구할 수 있음\n",
    "    - 이런 문제를 작은 문제로 쪼개서 풂\n",
    "- 최적 구조란\n",
    "    - 문제의 크기에 상관 없이 어떤 한 문제의 정답은 일정한 구조\n",
    "    - 10번째 피보나치 수를 구하면서 구한 4번째 피보나치 수 == 5번째 피보나치 수를 구하면서 구한 4번째 피보나치 수\n",
    "    \n",
    "## 유의사항\n",
    "\n",
    "- DP로 문제를 풀 때 각 문제는 한 번만 풀어야 -> memoization 필요\n",
    "- 다시 말해 겹치는 호출을 방지하기 위하여 중복 호출이면 메모해놓은 값을 리턴함\n",
    "- 시간복잡도는 채워야 하는 칸의 수(N) x 1칸을 채우는 복잡도(O(1)) -> O(N)\n",
    "\n",
    "## 방법\n",
    "\n",
    "- Top-down (재귀호출 이용)\n",
    "- Bottom-up (1. 작은 문제부터 차례로, 2. 큰 문제는 항상 풀 수 있고, 3. 언젠간 풀어야하는 문제를 풀 수 있음)\n",
    "    - for (int=2; i <= n, i++) #1\n",
    "    - d[i] = d[i-1] + d[i-2] #2\n",
    "    - 위의 과정을 통해 d[n]을 구함 #3\n",
    "\n",
    "## 전략\n",
    "\n",
    "- 구하려는 답을 문장으로 나타냄 -> N번째 피보나치 수\n",
    "- 변수의 개수만큼 메모하는 배열을 만듦\n",
    "    - Top down의 경우 재귀 호출의 인자 개수\n",
    "- 문제를 작은 문제로 나누고, 수식 이용해 문제를 표현"
   ]
  },
  {
   "cell_type": "code",
   "execution_count": 1,
   "metadata": {},
   "outputs": [
    {
     "name": "stdout",
     "output_type": "stream",
     "text": [
      "5\n"
     ]
    }
   ],
   "source": [
    "#DP 피보나치\n",
    "def fibo(n):\n",
    "    f = [0]*(n+3) #f리스트 여유있게 만들어주기\n",
    "    f[1] = 1\n",
    "    for i in range(n+1):\n",
    "        f[i+2] += f[i]\n",
    "        f[i+1] += f[i]\n",
    "    return f[n]\n",
    "print(fibo(5))"
   ]
  },
  {
   "cell_type": "code",
   "execution_count": 2,
   "metadata": {},
   "outputs": [
    {
     "name": "stdout",
     "output_type": "stream",
     "text": [
      "10\n",
      "3\n"
     ]
    }
   ],
   "source": [
    "#1463_1로 만들기\n",
    "'''\n",
    "D[N] = N->1로 만드는 데 필요한 연산의 최소값\n",
    "N+1 ->\n",
    "1. D[N/3]\n",
    "2. D[N/2]\n",
    "3. D[N-1]\n",
    "-> 0\n",
    "따라서 D[N+1] = min(1, 2, 3)\n",
    "\n",
    "'''\n",
    "\n",
    "N = int(input())\n",
    "min_cnt = [0 for _ in range(N+1)]\n",
    "\n",
    "idx = 0\n",
    "while True:\n",
    "    if idx > N:\n",
    "        break\n",
    "    if idx <= 1:\n",
    "        min_cnt[idx] = 0\n",
    "    else:\n",
    "        temp_min = N+1\n",
    "        if idx % 3 == 0:\n",
    "            temp_idx = idx//3\n",
    "            temp_min = min(temp_min, min_cnt[temp_idx])\n",
    "        if idx % 2 == 0:\n",
    "            temp_idx = idx//2\n",
    "            temp_min = min(temp_min, min_cnt[temp_idx])\n",
    "        temp_min = min(temp_min, min_cnt[idx-1])\n",
    "        min_cnt[idx] = temp_min + 1\n",
    "    idx += 1\n",
    "print(min_cnt[N])"
   ]
  },
  {
   "cell_type": "code",
   "execution_count": 4,
   "metadata": {},
   "outputs": [
    {
     "name": "stdout",
     "output_type": "stream",
     "text": [
      "9\n",
      "55\n"
     ]
    }
   ],
   "source": [
    "#11726_2xn 타일링\n",
    "'''\n",
    "D[N] = 2xN을 채우는 방법의 수\n",
    "1. D[N-1]\n",
    "2. D[N-2]\n",
    "D[N] = D[N-1] + D[N-2]\n",
    "\n",
    "'''\n",
    "# #시간초과\n",
    "# #재귀\n",
    "# import sys\n",
    "# r = sys.stdin.readline\n",
    "#\n",
    "# def d(n):\n",
    "#     if n == 1: return 1\n",
    "#     if n == 2: return 2\n",
    "#     else:\n",
    "#         return d(n-1) + d(n-2)\n",
    "# n = int(r())\n",
    "# print(d(n))\n",
    "\n",
    "# 맞았습니다!\n",
    "d = [0, 1, 2]\n",
    "for i in range(3, 1001):\n",
    "    d.append(d[i-2] + d[i-1])\n",
    "n = int(input())\n",
    "print(d[n] % 10007)"
   ]
  },
  {
   "cell_type": "code",
   "execution_count": 5,
   "metadata": {},
   "outputs": [
    {
     "name": "stdout",
     "output_type": "stream",
     "text": [
      "8\n",
      "171\n"
     ]
    }
   ],
   "source": [
    "#11727_2xn 타일링2\n",
    "d = [0, 1, 3]\n",
    "for i in range(3, 1001):\n",
    "    d.append(d[i-1] + 2*d[i-2])\n",
    "n = int(input())\n",
    "print(d[n] % 10007)"
   ]
  },
  {
   "cell_type": "code",
   "execution_count": 6,
   "metadata": {},
   "outputs": [
    {
     "name": "stdout",
     "output_type": "stream",
     "text": [
      "3\n",
      "4\n",
      "7\n",
      "10\n",
      "274\n",
      "7\n",
      "44\n"
     ]
    }
   ],
   "source": [
    "#9095_1, 2, 3 더하기\n",
    "'''\n",
    "D[N] = N을 1, 2, 3의 조합으로 나타내는 방법의 수\n",
    "_ + _ + _ + _ +_ + x = N\n",
    "x에 들어갈 수는 1, 2, 3 중 하나 -> O(N)\n",
    "D[N] = D[N-1] + D[N-2] + D[N-3] \n",
    "\n",
    "'''\n",
    "\n",
    "t = int(input())\n",
    "d = [1, 2, 4]\n",
    "for i in range(3, 10):\n",
    "    d.append(d[i-3] + d[i-2] + d[i-1])\n",
    "for i in range(t):\n",
    "    n = int(input())\n",
    "    print(d[n-1])"
   ]
  },
  {
   "cell_type": "code",
   "execution_count": 8,
   "metadata": {},
   "outputs": [
    {
     "name": "stdout",
     "output_type": "stream",
     "text": [
      "2\n",
      "17\n"
     ]
    }
   ],
   "source": [
    "#10844_쉬운 계단 수\n",
    "'''\n",
    "D[N][L] = 마지막 수가 L인 N자리 계단수\n",
    "D[N][L] = D[N-1][L-1] + D[N-1][L+1] (1 <= L <= 8)\n",
    "like 파스칼의 삼각형\n",
    "이 때 자리수가 0과 9에서는 반드시 아래와 같이 됨\n",
    "D[N][0] = D[N-1][1]\n",
    "D[N][9] = D[N-1][8]\n",
    "\n",
    "'''\n",
    "\n",
    "n = int(input())\n",
    "d = [[0 for i in range(10)] for j in range(101)]\n",
    "\n",
    "for i in range(1, 10):\n",
    "    d[1][i] = 1\n",
    "for i in range(2, n+1):\n",
    "    for j in range(10):\n",
    "        if j == 0:\n",
    "            d[i][j] = d[i-1][1]\n",
    "        elif j == 9:\n",
    "            d[i][j] = d[i-1][8]\n",
    "        else:\n",
    "            d[i][j] = d[i-1][j-1] + d[i-1][j+1]\n",
    "print(sum(d[n]) % 1000000000)"
   ]
  },
  {
   "cell_type": "code",
   "execution_count": 9,
   "metadata": {},
   "outputs": [
    {
     "name": "stdout",
     "output_type": "stream",
     "text": [
      "3\n",
      "220\n"
     ]
    }
   ],
   "source": [
    "#11057_오르막 수\n",
    "'''\n",
    "D[N][L] = 마지막 수가 L인 N자리 오르막 수\n",
    "D[N][L] += D[N-1][k] (0 <= k <= L)\n",
    "N-1에서 L까지의 모든 경우의 수를 더하면 됨\n",
    "D[1][i] = 1\n",
    "\n",
    "'''\n",
    "\n",
    "n = int(input())\n",
    "d = [[0]* 10 for _ in range(1001)]\n",
    "for i in range(10):\n",
    "    d[1][i] = 1\n",
    "for i in range(2, 1001):\n",
    "    for j in range(10):\n",
    "        for k in range(j+1):\n",
    "            d[i][j] += d[i-1][k]\n",
    "#print(d[n])\n",
    "print(sum(d[n]) % 10007)"
   ]
  },
  {
   "cell_type": "code",
   "execution_count": 11,
   "metadata": {},
   "outputs": [
    {
     "name": "stdout",
     "output_type": "stream",
     "text": [
      "3\n",
      "2\n"
     ]
    }
   ],
   "source": [
    "#2193_이친수\n",
    "'''\n",
    "D[N][L] = 마지막 수가 L인 N자리 이친수(L=0,1)\n",
    "0으로 시작하지 않음\n",
    "D[1][0] = 0\n",
    "D[1][1] = 1\n",
    "0,1로 끝남\n",
    "D[N][0] = D[N-1][0] + D[N-1][1] -> D[N-1]\n",
    "D[N][1] = D[N-1][0] -> D[N-2]\n",
    "따라서\n",
    "D[N] = D[N-1] + D[N-2]\n",
    "\n",
    "'''\n",
    "\n",
    "n = int(input())\n",
    "d = [0, 1, 1]\n",
    "for i in range(3, 91):\n",
    "    d.append(d[i-1]+d[i-2])\n",
    "print(d[n])"
   ]
  },
  {
   "cell_type": "code",
   "execution_count": 12,
   "metadata": {},
   "outputs": [
    {
     "name": "stdout",
     "output_type": "stream",
     "text": [
      "2\n",
      "5\n",
      "50 10 100 20 40\n",
      "30 50 70 10 60\n",
      "260\n",
      "7\n",
      "10 30 10 50 100 20 40\n",
      "20 40 30 50 60 20 80\n",
      "290\n"
     ]
    }
   ],
   "source": [
    "#9465_스티커\n",
    "'''\n",
    "D[N][S] = 상태가 S인 2xN 스티커에서의 최대 점수\n",
    "S = 0, 1, 2를 각각 뜯지 않음, 위쪽을 뜯음, 아래쪽을 뜯음이라 하면\n",
    "1. D[N][0] = max(D[N-1][0], D[N-1][1], D[N-1][2])\n",
    "2. D[N][1] = max(D[N-1][0], D[N-1][2]) + A[N][1]\n",
    "3. D[N][2] = max(D[N-1][0], D[N-1][1]) + A[N][2]\n",
    "따라서 D[N][S] = max(1, 2, 3)\n",
    "\n",
    "'''\n",
    "\n",
    "t = int(input())\n",
    "for i in range(t):\n",
    "    d = []\n",
    "    n = int(input())\n",
    "    for k in range(2):\n",
    "        d.append(list(map(int, input().split())))\n",
    "    d[0][1] += d[1][0]\n",
    "    d[1][1] += d[0][0]\n",
    "    for s in range(2, n):\n",
    "        d[0][s] += max(d[1][s-1], d[1][s-2])\n",
    "        d[1][s] += max(d[0][s-1], d[0][s-2])\n",
    "    print(max(d[0][n-1], d[1][n-1]))"
   ]
  },
  {
   "cell_type": "code",
   "execution_count": 14,
   "metadata": {},
   "outputs": [
    {
     "name": "stdout",
     "output_type": "stream",
     "text": [
      "6\n",
      "6\n",
      "10\n",
      "13\n",
      "9\n",
      "8\n",
      "1\n",
      "33\n"
     ]
    }
   ],
   "source": [
    "#2156_포도주 시식\n",
    "'''\n",
    "D[i] = max(D[i-1]+A[i], D[i-1])은 연속해서 3잔 마시면 안 되는 경우를 처리x\n",
    "D[i][j]= A[i]~A[j]의 포도주를 마셨을 때 마실 수 있는 포도주 최대 양 (i번째 잔, 연속 j번)\n",
    "A[i] = i번째 포도주의 양\n",
    "1. D[N][0] = max(D[N-1][0], D[N-1][1], D[N-1][2]) #A[i] 안 마심 -> D[N-1]\n",
    "2. D[N][1] = D[N-1][0] + A[N] #A[i-1] 안 마심 -> D[N-2] + A[i]\n",
    "3. D[N][2] = D[N-1][1] + A[N] #A[i-1] 마시고, A[i-2] 안 마심 -> D[N-3] + A[i-1] + A[i]\n",
    "\n",
    "'''\n",
    "\n",
    "n = int(input())\n",
    "w = [0]\n",
    "for i in range(n):\n",
    "    w.append(int(input()))\n",
    "d = [0]\n",
    "d.append(w[1])\n",
    "if n > 1:\n",
    "    d.append(w[1] + w[2])\n",
    "for i in range(3, n+1):\n",
    "    d.append(max(d[i-1], d[i-2] + w[i], d[i-3] + w[i-1] + w[i]))\n",
    "print(d[n])"
   ]
  }
 ],
 "metadata": {
  "kernelspec": {
   "display_name": "Python 3",
   "language": "python",
   "name": "python3"
  },
  "language_info": {
   "codemirror_mode": {
    "name": "ipython",
    "version": 3
   },
   "file_extension": ".py",
   "mimetype": "text/x-python",
   "name": "python",
   "nbconvert_exporter": "python",
   "pygments_lexer": "ipython3",
   "version": "3.7.3"
  }
 },
 "nbformat": 4,
 "nbformat_minor": 2
}
